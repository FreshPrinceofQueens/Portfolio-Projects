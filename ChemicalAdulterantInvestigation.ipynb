{
 "cells": [
  {
   "cell_type": "markdown",
   "metadata": {},
   "source": [
    "CMPE251: Data analytics is a course taught at Queen's University by Dr. David Skillicorn. This is the capstone project for the course\n",
    "# CMPE251: Analysis of Adulterant in Drug Shipments\n",
    "\n",
    "## Problem Definition \n",
    "### Project Background\n",
    "As illicit drugs go from production to wholesale to street sale, dealers often add adulterant to the shipments to increase volume and thus their profits. These adulterants act as a fingerprint/breadcrumbs that can help law enforcement trace the drugs to their country of origin and the paths they take to the consumer. \n",
    "\n",
    "This dataset describes the chemical composition of the adulterants added to the drug shipments found by customes. Each row of the dataset describes a shipment and each column denotes one adulterant detected. \n",
    "\n",
    "### Project Goals \n",
    "1. Cluster the samples according to their adulterant pattern, and gain insights into the possible pathways by which the drugs arrived at countries borders.\n",
    "2. Create model that can predict a shipment label from adulerant profile. \n",
    "\n",
    "### Assumptions/Considerations \n",
    "1. If multiple shipments have the same adulterant pattern, they were presumably sourced from the same place. \n",
    "2. If all the patterns are different, then pipelines are complex and overlapping. \n",
    "3. Though it is not explicitly mentioned, from project description, the drugs of concern here are illicit drugs. \n",
    "4. The accuracy/breadth of the data here depends on Customs ability to seize and test drugs, meaning that different pathways may be less/more covert in detection leading to over/under-representation in the data.\n",
    "5. Without knowing the country in which the drugs were seized, we cannot get a full picture of the which pathways are more resilient to detection.\n"
   ]
  },
  {
   "cell_type": "code",
   "execution_count": null,
   "metadata": {},
   "outputs": [],
   "source": []
  }
 ],
 "metadata": {
  "kernelspec": {
   "display_name": "Python 3.9.9 64-bit",
   "language": "python",
   "name": "python3"
  },
  "language_info": {
   "codemirror_mode": {
    "name": "ipython",
    "version": 3
   },
   "file_extension": ".py",
   "mimetype": "text/x-python",
   "name": "python",
   "nbconvert_exporter": "python",
   "pygments_lexer": "ipython3",
   "version": "3.9.9"
  },
  "orig_nbformat": 4,
  "vscode": {
   "interpreter": {
    "hash": "aee8b7b246df8f9039afb4144a1f6fd8d2ca17a180786b69acc140d282b71a49"
   }
  }
 },
 "nbformat": 4,
 "nbformat_minor": 2
}
