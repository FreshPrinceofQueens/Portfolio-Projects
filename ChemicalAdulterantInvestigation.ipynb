{
 "cells": [
  {
   "cell_type": "markdown",
   "metadata": {},
   "source": [
    "CMPE251: Data analytics is a course taught at Queen's University by Dr. David Skillicorn. This is the capstone project for the course\n",
    "# CMPE251: Analysis of Adulterant in Drug Shipments\n",
    "\n",
    "## Problem Definition \n",
    "### Project Background\n",
    "As illicit drugs go from production to wholesale to street sale, dealers often add adulterant to the shipments to increase volume and thus their profits. These adulterants act as a fingerprint/breadcrumbs that can help law enforcement trace the drugs to their country of origin and the paths they take to the consumer. \n",
    "\n",
    "This dataset describes the chemical composition of the adulterants added to the drug shipments found by customes. Each row of the dataset describes a shipment and each column denotes one adulterant detected. \n",
    "\n",
    "### Project Goals \n",
    "1. Cluster the samples according to their adulterant pattern, and gain insights into the possible pathways by which the drugs arrived at countries borders.\n",
    "2. Create model that can predict a shipment label from adulerant profile. \n",
    "\n",
    "Some insights that can be gained are:\n",
    "1. How many clearly defined pathways exist\n",
    "2. How many big players vs small players exist\n",
    "3. How much overlap are there between pathways\n",
    "\n",
    "### Assumptions/Considerations \n",
    "1. If multiple shipments have the same adulterant pattern, they were presumably sourced from the same place. \n",
    "2. If all the patterns are different, then pipelines are complex and overlapping. \n",
    "3. Though it is not explicitly mentioned, from project description, the drugs of concern here are illicit drugs. \n",
    "4. The accuracy/breadth of the data here depends on Customs ability to seize and test drugs, meaning that different pathways may be less/more covert in detection leading to over/under-representation in the data.\n",
    "5. Without knowing the country in which the drugs were seized, we cannot get a full picture of the which pathways are more resilient to detection.\n"
   ]
  },
  {
   "cell_type": "markdown",
   "metadata": {},
   "source": [
    "# First Look At Data\n",
    "Let's take a first look at the data. In this step we'll first look at the shape of the data, a list of the adulterants in the set and their respective frequencies. "
   ]
  },
  {
   "cell_type": "code",
   "execution_count": 22,
   "metadata": {},
   "outputs": [
    {
     "name": "stdout",
     "output_type": "stream",
     "text": [
      "(2474, 58)\n",
      "  PROMIS_Seizure_SeizureName  Ecgonine  Benzoylecgonine  N_Formylcocaine  \\\n",
      "0                  PS3080497      0.05             0.11             0.02   \n",
      "1                  PS3080497      0.02             0.08             0.02   \n",
      "2                  PS3080497      0.03             0.08             0.01   \n",
      "3                  PS3080497      0.04             0.10             0.01   \n",
      "4                  PS3080497      0.02             0.07             0.01   \n",
      "\n",
      "   Ecgonine_methyl_ester  Norcocaine  cis_Cinnamoylcocaine  \\\n",
      "0                   0.02        0.01                  0.07   \n",
      "1                   0.03        0.01                  0.08   \n",
      "2                   0.03        0.01                  0.08   \n",
      "3                   0.03        0.01                  0.08   \n",
      "4                   0.03        0.01                  0.08   \n",
      "\n",
      "   trans_Cinnamoylcocaine  Percent_Truxilline  Trimethoxycocaine  ...  \\\n",
      "0                    0.18              2.5975               0.20  ...   \n",
      "1                    0.20              2.7224               0.23  ...   \n",
      "2                    0.22              2.7977               0.23  ...   \n",
      "3                    0.21              2.3809               0.24  ...   \n",
      "4                    0.20              2.6180               0.22  ...   \n",
      "\n",
      "   Strychnine  Thebaine  Sugar_Fructose  Sugar_Glucose  Sugar_Inositol  \\\n",
      "0           0         0             0.0            0.0             0.0   \n",
      "1           0         0             0.0            0.0             0.0   \n",
      "2           0         0             0.0            0.0             0.0   \n",
      "3           0         0             0.0            0.0             0.0   \n",
      "4           0         0             0.0            0.0             0.0   \n",
      "\n",
      "   Sugar_Lactose  Sugar_Maltose  Sugar_Mannitol  Sugar_Sorbitol  Sugar_Sucrose  \n",
      "0            0.0            0.0             0.0             0.0            0.0  \n",
      "1            0.0            0.0             0.0             0.0            0.0  \n",
      "2            0.0            0.0             0.0             0.0            0.0  \n",
      "3            0.0            0.0             0.0             0.0            0.0  \n",
      "4            0.0            0.0             0.0             0.0            0.0  \n",
      "\n",
      "[5 rows x 58 columns]\n",
      "Index(['PROMIS_Seizure_SeizureName', 'Ecgonine', 'Benzoylecgonine',\n",
      "       'N_Formylcocaine', 'Ecgonine_methyl_ester', 'Norcocaine',\n",
      "       'cis_Cinnamoylcocaine', 'trans_Cinnamoylcocaine', 'Percent_Truxilline',\n",
      "       'Trimethoxycocaine', 'Tropacocaine', 'Acetone', 'Acetonitrile',\n",
      "       'Benzene', 'Chloroform', 'Ethyl_acetate', 'Hexane', 'Isobutyl_acetate',\n",
      "       'Mesitylene', 'Methyl_acetate', 'MEK', 'MIBK', 'Methylene_Chloride',\n",
      "       'nPropyl_acetate', 'Toluene', 'MP_Xylene', 'O_Xylene',\n",
      "       'Methylisobutenylketone', 'Methylbenzoate', 'Aspirin', 'Benzocaine',\n",
      "       'Caffeine', 'Dextromorphan', 'Paracetamol', 'Phenacetin',\n",
      "       'Phenobarbitol', 'Theophylline', 'Creatine', 'Creatinine', 'Diltiazem',\n",
      "       'Hydroxyzine', 'Ketamine', 'Levamisole', 'Dexamisole', 'Lignocaine',\n",
      "       'Nicotinamide', 'Procaine', 'Quinine', 'Strychnine', 'Thebaine',\n",
      "       'Sugar_Fructose', 'Sugar_Glucose', 'Sugar_Inositol', 'Sugar_Lactose',\n",
      "       'Sugar_Maltose', 'Sugar_Mannitol', 'Sugar_Sorbitol', 'Sugar_Sucrose'],\n",
      "      dtype='object')\n",
      "PROMIS_Seizure_SeizureName     object\n",
      "Ecgonine                      float64\n",
      "Benzoylecgonine               float64\n",
      "N_Formylcocaine               float64\n",
      "Ecgonine_methyl_ester         float64\n",
      "Norcocaine                    float64\n",
      "cis_Cinnamoylcocaine          float64\n",
      "trans_Cinnamoylcocaine        float64\n",
      "Percent_Truxilline            float64\n",
      "Trimethoxycocaine             float64\n",
      "Tropacocaine                  float64\n",
      "Acetone                       float64\n",
      "Acetonitrile                  float64\n",
      "Benzene                       float64\n",
      "Chloroform                    float64\n",
      "Ethyl_acetate                 float64\n",
      "Hexane                        float64\n",
      "Isobutyl_acetate              float64\n",
      "Mesitylene                    float64\n",
      "Methyl_acetate                float64\n",
      "MEK                           float64\n",
      "MIBK                          float64\n",
      "Methylene_Chloride            float64\n",
      "nPropyl_acetate               float64\n",
      "Toluene                       float64\n",
      "MP_Xylene                     float64\n",
      "O_Xylene                      float64\n",
      "Methylisobutenylketone        float64\n",
      "Methylbenzoate                float64\n",
      "Aspirin                       float64\n",
      "Benzocaine                    float64\n",
      "Caffeine                      float64\n",
      "Dextromorphan                   int64\n",
      "Paracetamol                   float64\n",
      "Phenacetin                    float64\n",
      "Phenobarbitol                 float64\n",
      "Theophylline                    int64\n",
      "Creatine                      float64\n",
      "Creatinine                      int64\n",
      "Diltiazem                     float64\n",
      "Hydroxyzine                   float64\n",
      "Ketamine                        int64\n",
      "Levamisole                    float64\n",
      "Dexamisole                    float64\n",
      "Lignocaine                    float64\n",
      "Nicotinamide                  float64\n",
      "Procaine                      float64\n",
      "Quinine                         int64\n",
      "Strychnine                      int64\n",
      "Thebaine                        int64\n",
      "Sugar_Fructose                float64\n",
      "Sugar_Glucose                 float64\n",
      "Sugar_Inositol                float64\n",
      "Sugar_Lactose                 float64\n",
      "Sugar_Maltose                 float64\n",
      "Sugar_Mannitol                float64\n",
      "Sugar_Sorbitol                float64\n",
      "Sugar_Sucrose                 float64\n",
      "dtype: object\n"
     ]
    }
   ],
   "source": [
    "# Dataset manipulation\n",
    "import pandas as pd\n",
    "import numpy as np\n",
    "\n",
    "# Data visualization \n",
    "import matplotlib.pyplot as plt\n",
    "%matplotlib inline \n",
    "import  seaborn as sns\n",
    "\n",
    "df = pd.read_csv('./drugsamples.csv')\n",
    "print(df.shape)\n",
    "print(df.head())\n",
    "print(df.columns)\n",
    "print(df.dtypes)\n"
   ]
  },
  {
   "cell_type": "markdown",
   "metadata": {},
   "source": [
    "We see that there are 2474 observations representing drug shipments seized and 58 columns, 57 representing the chemical adulterant tested for and one column named **PROMIS_Seizure_SeizureName**. At this point in the investigation, data collected in this column is unknown. It may represent an identifier of the location or batch of drug shipments seized. By the background information provided, Each observation represents a unique shipment seized, but we can see from the from the output below that many different observations share the same string value in the column. A quick google search of the column name resulted in no information given. **An education guess from the name of the feature is that it represents an identifier of the \"seizure operation\" in which shipments were seized. Meaning that multiple shipments may be seized in one \"incident\".** I will follow-up with the course instructors. \n",
    "\n",
    "**Following up with course TA, the \"PROMIS_Seizure_SeizureName\" indicates the seizure operation. Meaning there may be multiple containers in one seizure. Thus different observations with the same value in this column represent different samples of the same seizure.**\n",
    "\n",
    "In terms of the values in the chemical adulterant columns, the unit of measurement is not given, from a quick glance, it appears that they represent percentages of chemical composition. This will be explored in the Exploratory data analysis section.\n",
    "\n",
    "We can also see that all the values in our dataset are numerical values except for trhe the first string \"PROMIS_Seizure_SeizureName\""
   ]
  },
  {
   "cell_type": "code",
   "execution_count": 12,
   "metadata": {},
   "outputs": [
    {
     "name": "stdout",
     "output_type": "stream",
     "text": [
      "PS3187838    121\n",
      "PS3098390     93\n",
      "PS3239679     88\n",
      "PS3087542     62\n",
      "PS3247872     44\n",
      "            ... \n",
      "PS3255752      1\n",
      "PS3163708      1\n",
      "PS3163700      1\n",
      "PS3167858      1\n",
      "PS3336931      1\n",
      "Name: PROMIS_Seizure_SeizureName, Length: 465, dtype: int64\n"
     ]
    }
   ],
   "source": [
    "print(df['PROMIS_Seizure_SeizureName'].value_counts())"
   ]
  },
  {
   "cell_type": "markdown",
   "metadata": {},
   "source": [
    "# Exploratory Data Analysis\n",
    "Now that we've taken a first qualitative look at the data to understand the skeleton the problem, we will now take a qualitative dive into the dataset. **The goals of this section are to**:\n",
    "1. Investigate the values held in each column\n",
    "2. Investigate the presence of missing values in the dataset\n",
    "3. Understand some summary statistics of the dataset (measures of central tendancy)\n",
    "4. Investigate the distribution of the different adulterants \n",
    "5. Investigate correlation between features\n",
    "* Investigate correlation between PROMIS_Seizure_SeizureName and other features \n",
    "\n",
    "We will go through these objectives sequentially and summerize findings at the bottom"
   ]
  },
  {
   "cell_type": "markdown",
   "metadata": {},
   "source": [
    "## Investigate the value of each column \n",
    "### Investigate chemical compound attributes\n",
    "Here we will invetigate the values held by our PROMIS_Seizure_SeizureName column and our compound columns separately. We begin with the compound columns. "
   ]
  },
  {
   "cell_type": "code",
   "execution_count": 30,
   "metadata": {},
   "outputs": [
    {
     "name": "stdout",
     "output_type": "stream",
     "text": [
      "Max: 190.99259999999995\n",
      "Min: 1.7289999999999999\n",
      "Mean: 112.33602421180274\n"
     ]
    }
   ],
   "source": [
    "# Get dataframe without the PROMIS_Seizure_SeizureName column, since the rest are the compound values we want to investigare\n",
    "df_compounds = df.drop(columns='PROMIS_Seizure_SeizureName')\n",
    "df_compounds['sum'] = df_compounds.sum(axis=1)\n",
    "print('Max: ' + str(df_compounds['sum'].max()))\n",
    "print('Min: ' + str(df_compounds['sum'].min()))\n",
    "print('Mean: ' + str(df_compounds['sum'].mean()))"
   ]
  },
  {
   "cell_type": "markdown",
   "metadata": {},
   "source": [
    "To test the initial assumption that these each column held compound percentage of full shipment, all the values in the each shipment were summed up (barring the PROMIS_Seizure_SeizureName). To prove that they were percentages, we were looking for the sum of all rows features to be close to either 1 or 100. Instead, they range from ~1.73 to ~190.99, discounting this theory. \n",
    "\n",
    "Another assumption can be that each column represents some measure of mass or volume or concentration of chemical in the sample taken. Thus the sum of the features for each row would equal the total mass/volume of a shipment."
   ]
  },
  {
   "cell_type": "markdown",
   "metadata": {},
   "source": [
    "## Summary of Insights\n",
    "1. The compound features do not represent a *percentage* of the shipment seized but may represent a portion of the mass/volume of the overall shipment.\n",
    "\n",
    "### To Dos\n",
    "* Reach out to data provider to inquire into the units represented in the data. "
   ]
  },
  {
   "cell_type": "markdown",
   "metadata": {},
   "source": [
    "# Clustering\n",
    "Now we will work to cluster the data using various clustering techniques. This clustering analysis works on the assumption that **samples with similar chemical compositions share similar pathways**. Thus we can also assume the following about clusters: \n",
    "1. Different samples belonging to the same clusters may indicate that the samples had the same origin.\n",
    "2. As we move outwards from the cluster centroid, points belonging to that cluster may have had the same or similar origins, but have taken different pathways to the place of seizure \n",
    "3. Two different clusters that overlap/intersect may denote a two different pathways that converge at some point\n",
    "4. Big clusters may indicate a major drug pathway/big player\n",
    "5. Small clusters/anomalies indicate smaller players\n",
    "\n",
    "\n",
    "\n",
    "## Summary of Insights\n",
    "\n",
    "## TODO\n",
    "* Look into the different features that denote the most similarity in a cluster\n"
   ]
  },
  {
   "cell_type": "markdown",
   "metadata": {},
   "source": [
    "# Data Engineering\n",
    "## Summary of Insights"
   ]
  },
  {
   "cell_type": "markdown",
   "metadata": {},
   "source": [
    "# Model Building\n",
    "## Summary of Insights"
   ]
  },
  {
   "cell_type": "markdown",
   "metadata": {},
   "source": [
    "# Results\n",
    "## Summary of Insights"
   ]
  },
  {
   "cell_type": "markdown",
   "metadata": {},
   "source": []
  }
 ],
 "metadata": {
  "kernelspec": {
   "display_name": "Python 3.9.9 64-bit",
   "language": "python",
   "name": "python3"
  },
  "language_info": {
   "codemirror_mode": {
    "name": "ipython",
    "version": 3
   },
   "file_extension": ".py",
   "mimetype": "text/x-python",
   "name": "python",
   "nbconvert_exporter": "python",
   "pygments_lexer": "ipython3",
   "version": "3.9.9"
  },
  "orig_nbformat": 4,
  "vscode": {
   "interpreter": {
    "hash": "aee8b7b246df8f9039afb4144a1f6fd8d2ca17a180786b69acc140d282b71a49"
   }
  }
 },
 "nbformat": 4,
 "nbformat_minor": 2
}
